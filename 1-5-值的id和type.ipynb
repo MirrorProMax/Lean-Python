{
 "cells": [
  {
   "cell_type": "code",
   "execution_count": null,
   "metadata": {},
   "outputs": [],
   "source": [
    "# 值的id\n",
    "a = 1\n",
    "print(\"a\", id(a), a)\n",
    "\n",
    "b = a\n",
    "print(\"b\", id(b), b)  # b的值和值地址跟a一样\n",
    "\n",
    "a = 2\n",
    "print(\"a\", id(a), a)  # a的值变了之后,值地址跟着变了\n",
    "print(\"b\", id(b), b)  # b的值的内存地址不变"
   ]
  },
  {
   "cell_type": "code",
   "execution_count": null,
   "metadata": {},
   "outputs": [],
   "source": [
    "# 值的type\n",
    "a = 1\n",
    "print(\"a\", id(a), a)\n",
    "\n",
    "b = a\n",
    "print(\"b\", id(b), b)  # b的值和值地址跟a一样\n",
    "\n",
    "print(type(a), type(b), type(\"123\"), type(\"123\"), type(False), type(1 + 2j))"
   ]
  }
 ],
 "metadata": {
  "language_info": {
   "name": "python"
  }
 },
 "nbformat": 4,
 "nbformat_minor": 2
}
