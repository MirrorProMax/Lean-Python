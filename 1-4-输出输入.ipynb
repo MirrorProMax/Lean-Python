{
 "cells": [
  {
   "cell_type": "code",
   "execution_count": null,
   "metadata": {},
   "outputs": [],
   "source": [
    "# 输出\n",
    "print(\"hello, world\")\n",
    "\n",
    "print(\"hello\", \"world\")\n",
    "print(\"hello\" \"world\")\n",
    "\n",
    "print(\"hello\", \"world\", sep=\"*\")\n",
    "\n",
    "print(\"{}{}{}\".format(1, 2, 3))"
   ]
  },
  {
   "cell_type": "code",
   "execution_count": null,
   "metadata": {},
   "outputs": [],
   "source": [
    "# 输入\n",
    "print(f\"请输入: \", end=\"\")\n",
    "i = input()\n",
    "print(\"输出:\", i)"
   ]
  }
 ],
 "metadata": {
  "language_info": {
   "name": "python"
  }
 },
 "nbformat": 4,
 "nbformat_minor": 2
}
