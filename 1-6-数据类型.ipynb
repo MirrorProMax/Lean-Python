{
 "cells": [
  {
   "cell_type": "code",
   "execution_count": null,
   "metadata": {},
   "outputs": [],
   "source": [
    "# 数据类型\n",
    "from SubFunc import printType\n",
    "\n",
    "printType(2 * 3)\n",
    "printType(2**3)  # 幂运算\n",
    "\n",
    "print(10 * \"*\")\n",
    "\n",
    "printType(5.5 / 4)\n",
    "printType(5.5 // 4)  # 不保留小数点的除法\n",
    "printType(5.5 % 4)  # 求余数"
   ]
  }
 ],
 "metadata": {
  "language_info": {
   "name": "python"
  }
 },
 "nbformat": 4,
 "nbformat_minor": 2
}
